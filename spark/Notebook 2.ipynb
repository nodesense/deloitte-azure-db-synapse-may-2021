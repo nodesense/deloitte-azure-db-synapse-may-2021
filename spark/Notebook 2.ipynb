{
  "cells": [
    {
      "cell_type": "code",
      "source": [
        "SHOW DATABASES"
      ],
      "outputs": [
        {
          "output_type": "display_data",
          "data": {
            "application/vnd.livy.statement-meta+json": {
              "spark_pool": "SparkPool",
              "session_id": 2,
              "statement_id": 1,
              "state": "finished",
              "livy_statement_state": "available",
              "queued_time": "2021-05-27T11:58:36.6943172Z",
              "execution_start_time": "2021-05-27T11:58:36.8035805Z",
              "execution_finish_time": "2021-05-27T11:58:47.1450192Z"
            },
            "text/plain": "StatementMeta(SparkPool, 2, 1, Finished, Available)"
          },
          "metadata": {}
        },
        {
          "output_type": "execute_result",
          "execution_count": 2,
          "data": {
            "application/vnd.synapse.sparksql-result+json": {
              "schema": {
                "type": "struct",
                "fields": [
                  {
                    "name": "databaseName",
                    "type": "string",
                    "nullable": false,
                    "metadata": {}
                  }
                ]
              },
              "data": [
                [
                  "moviedb"
                ],
                [
                  "default"
                ]
              ]
            },
            "text/plain": "<Spark SQL result set with 2 rows and 1 fields>"
          },
          "metadata": {}
        }
      ],
      "execution_count": 2,
      "metadata": {
        "collapsed": false
      }
    },
    {
      "cell_type": "code",
      "source": [
        "SHOW TABLES IN default"
      ],
      "outputs": [
        {
          "output_type": "display_data",
          "data": {
            "application/vnd.livy.statement-meta+json": {
              "spark_pool": "SparkPool",
              "session_id": 2,
              "statement_id": 3,
              "state": "finished",
              "livy_statement_state": "available",
              "queued_time": "2021-05-27T12:00:11.2855419Z",
              "execution_start_time": "2021-05-27T12:00:11.4220989Z",
              "execution_finish_time": "2021-05-27T12:00:13.496711Z"
            },
            "text/plain": "StatementMeta(SparkPool, 2, 3, Finished, Available)"
          },
          "metadata": {}
        },
        {
          "output_type": "execute_result",
          "execution_count": 4,
          "data": {
            "application/vnd.synapse.sparksql-result+json": {
              "schema": {
                "type": "struct",
                "fields": [
                  {
                    "name": "database",
                    "type": "string",
                    "nullable": false,
                    "metadata": {}
                  },
                  {
                    "name": "tableName",
                    "type": "string",
                    "nullable": false,
                    "metadata": {}
                  },
                  {
                    "name": "isTemporary",
                    "type": "boolean",
                    "nullable": false,
                    "metadata": {}
                  }
                ]
              },
              "data": []
            },
            "text/plain": "<Spark SQL result set with 0 rows and 3 fields>"
          },
          "metadata": {}
        }
      ],
      "execution_count": 4,
      "metadata": {
        "collapsed": false,
        "jupyter": {
          "source_hidden": false,
          "outputs_hidden": false
        },
        "nteract": {
          "transient": {
            "deleting": false
          }
        }
      }
    },
    {
      "cell_type": "code",
      "source": [
        "CREATE DATABASE ecommerce"
      ],
      "outputs": [
        {
          "output_type": "display_data",
          "data": {
            "application/vnd.livy.statement-meta+json": {
              "spark_pool": "SparkPool",
              "session_id": 2,
              "statement_id": 5,
              "state": "finished",
              "livy_statement_state": "available",
              "queued_time": "2021-05-27T12:00:56.0089395Z",
              "execution_start_time": "2021-05-27T12:00:56.1353658Z",
              "execution_finish_time": "2021-05-27T12:00:58.2122898Z"
            },
            "text/plain": "StatementMeta(SparkPool, 2, 5, Finished, Available)"
          },
          "metadata": {}
        },
        {
          "output_type": "execute_result",
          "execution_count": 6,
          "data": {
            "application/vnd.synapse.sparksql-result+json": {
              "schema": {
                "type": "struct",
                "fields": []
              },
              "data": []
            },
            "text/plain": "<Spark SQL result set with 0 rows and 0 fields>"
          },
          "metadata": {}
        }
      ],
      "execution_count": 6,
      "metadata": {
        "collapsed": false,
        "jupyter": {
          "source_hidden": false,
          "outputs_hidden": false
        },
        "nteract": {
          "transient": {
            "deleting": false
          }
        }
      }
    },
    {
      "cell_type": "code",
      "source": [
        "SHOW DATABASES"
      ],
      "outputs": [
        {
          "output_type": "display_data",
          "data": {
            "application/vnd.livy.statement-meta+json": {
              "spark_pool": "SparkPool",
              "session_id": 3,
              "statement_id": 0,
              "state": "finished",
              "livy_statement_state": "available",
              "queued_time": "2021-05-27T12:05:08.7919985Z",
              "execution_start_time": "2021-05-27T12:05:47.2572855Z",
              "execution_finish_time": "2021-05-27T12:05:55.5323399Z"
            },
            "text/plain": "StatementMeta(SparkPool, 3, 0, Finished, Available)"
          },
          "metadata": {}
        },
        {
          "output_type": "execute_result",
          "execution_count": 8,
          "data": {
            "application/vnd.synapse.sparksql-result+json": {
              "schema": {
                "type": "struct",
                "fields": [
                  {
                    "name": "databaseName",
                    "type": "string",
                    "nullable": false,
                    "metadata": {}
                  }
                ]
              },
              "data": [
                [
                  "moviedb"
                ],
                [
                  "default"
                ],
                [
                  "ecommerce"
                ]
              ]
            },
            "text/plain": "<Spark SQL result set with 3 rows and 1 fields>"
          },
          "metadata": {}
        }
      ],
      "execution_count": 8,
      "metadata": {
        "collapsed": false,
        "jupyter": {
          "source_hidden": false,
          "outputs_hidden": false
        },
        "nteract": {
          "transient": {
            "deleting": false
          }
        }
      }
    }
  ],
  "metadata": {
    "language_info": {
      "name": "sql"
    },
    "kernelspec": {
      "name": "synapse_sparksql",
      "language": "SQL",
      "display_name": "Synapse SQL"
    },
    "kernel_info": {
      "name": "synapse_sparksql"
    },
    "save_output": true,
    "synapse_widget": {
      "version": "0.1",
      "state": {}
    }
  },
  "nbformat": 4,
  "nbformat_minor": 2
}