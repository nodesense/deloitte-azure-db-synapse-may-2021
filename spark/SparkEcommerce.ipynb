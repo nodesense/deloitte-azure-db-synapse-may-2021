{
  "cells": [
    {
      "cell_type": "code",
      "source": [
        "from pyspark.sql.types import DoubleType,StructType, StringType, IntegerType, DateType\r\n",
        "import pyspark.sql.functions as F\r\n",
        "\r\n",
        "schema = StructType() \\\r\n",
        "         .add(\"InvoiceNo\", StringType(), True) \\\r\n",
        "         .add(\"StockCode\", StringType(), True) \\\r\n",
        "         .add(\"Description\", StringType(), True) \\\r\n",
        "         .add(\"Quantity\", IntegerType(), True) \\\r\n",
        "         .add(\"InvoiceDate\", DateType(), True) \\\r\n",
        "         .add(\"UnitPrice\", DoubleType(), True) \\\r\n",
        "         .add(\"CustomerID\", IntegerType(), True) \\\r\n",
        "         .add(\"Country\", StringType(), True)\r\n",
        "\r\n",
        "# Blob File API\r\n",
        "input_path = \"abfss://ecommerce@deloittesynapasestorage.dfs.core.windows.net/raw\"\r\n",
        "\r\n",
        "dataSet = spark.read.format(\"csv\") \\\r\n",
        "                .option(\"header\", True) \\\r\n",
        "                .schema(schema) \\\r\n",
        "                .option(\"dateFormat\", \"MM/dd/yyyy HH:mm\")\\\r\n",
        "                .load(input_path)\r\n",
        "                \r\n",
        "dataSet.printSchema()\r\n",
        "dataSet.show(2)"
      ],
      "outputs": [
        {
          "output_type": "display_data",
          "data": {
            "application/vnd.livy.statement-meta+json": {
              "spark_pool": "SparkPool",
              "session_id": 4,
              "statement_id": 1,
              "state": "finished",
              "livy_statement_state": "available",
              "queued_time": "2021-05-27T12:07:23.3123057Z",
              "execution_start_time": "2021-05-27T12:08:26.2231182Z",
              "execution_finish_time": "2021-05-27T12:08:40.7339965Z"
            },
            "text/plain": "StatementMeta(SparkPool, 4, 1, Finished, Available)"
          },
          "metadata": {}
        },
        {
          "output_type": "stream",
          "name": "stdout",
          "text": [
            "root\n",
            " |-- InvoiceNo: string (nullable = true)\n",
            " |-- StockCode: string (nullable = true)\n",
            " |-- Description: string (nullable = true)\n",
            " |-- Quantity: integer (nullable = true)\n",
            " |-- InvoiceDate: date (nullable = true)\n",
            " |-- UnitPrice: double (nullable = true)\n",
            " |-- CustomerID: integer (nullable = true)\n",
            " |-- Country: string (nullable = true)\n",
            "\n",
            "+---------+---------+--------------------+--------+-----------+---------+----------+--------------+\n",
            "|InvoiceNo|StockCode|         Description|Quantity|InvoiceDate|UnitPrice|CustomerID|       Country|\n",
            "+---------+---------+--------------------+--------+-----------+---------+----------+--------------+\n",
            "|   536365|   85123A|WHITE HANGING HEA...|       6| 2010-12-01|     2.55|     17850|United Kingdom|\n",
            "|   536365|    71053| WHITE METAL LANTERN|       6| 2010-12-01|     3.39|     17850|United Kingdom|\n",
            "+---------+---------+--------------------+--------+-----------+---------+----------+--------------+\n",
            "only showing top 2 rows"
          ]
        }
      ],
      "execution_count": 20,
      "metadata": {}
    },
    {
      "cell_type": "code",
      "source": [
        "ecommerceDF = dataSet\\\r\n",
        "       .filter(\"Quantity IS NOT NULL\")\\\r\n",
        "       .filter(\"UnitPrice IS NOT NULL\")\\\r\n",
        "       .filter(\"InvoiceNo IS NOT NULL\")\\\r\n",
        "       .filter(\"Country IS NOT NULL\")\r\n",
        "\r\n"
      ],
      "outputs": [
        {
          "output_type": "display_data",
          "data": {
            "application/vnd.livy.statement-meta+json": {
              "spark_pool": null,
              "session_id": null,
              "statement_id": null,
              "state": "waiting",
              "livy_statement_state": null,
              "queued_time": "2021-05-27T12:06:55.7987248Z",
              "execution_start_time": null,
              "execution_finish_time": null
            },
            "text/plain": "StatementMeta(, , , Waiting, )"
          },
          "metadata": {}
        }
      ],
      "execution_count": null,
      "metadata": {
        "jupyter": {
          "source_hidden": false,
          "outputs_hidden": false
        },
        "nteract": {
          "transient": {
            "deleting": false
          }
        },
        "collapsed": true
      }
    },
    {
      "cell_type": "code",
      "source": [
        "# copy the content as parquet into a folder, with default paritions\r\n",
        "output_path =  \"abfss://ecommerce@deloittesynapasestorage.dfs.core.windows.net/parquet-default-partitions\"\r\n",
        "\r\n",
        "ecommerceDF.write.mode(\"overwrite\").parquet(output_path)"
      ],
      "outputs": [],
      "execution_count": null,
      "metadata": {
        "jupyter": {
          "source_hidden": false,
          "outputs_hidden": false
        },
        "nteract": {
          "transient": {
            "deleting": false
          }
        },
        "collapsed": true
      }
    },
    {
      "cell_type": "code",
      "source": [
        "# coalesce , reduce the partitions\r\n",
        "output_path =  \"abfss://ecommerce@deloittesynapasestorage.dfs.core.windows.net/parquet-one-partition\"\r\n",
        "# all data shall be moved into 1 parition, then the final 1 partition is written to storage\r\n",
        "ecommerceDF.coalesce(1).write.mode(\"overwrite\").parquet(output_path)"
      ],
      "outputs": [],
      "execution_count": null,
      "metadata": {
        "collapsed": true,
        "jupyter": {
          "source_hidden": false,
          "outputs_hidden": false
        },
        "nteract": {
          "transient": {
            "deleting": false
          }
        }
      }
    },
    {
      "cell_type": "code",
      "source": [
        "ecommerceDF.select(\"Country\").distinct().show(100)\r\n",
        "\r\n",
        "output_path =  \"abfss://ecommerce@deloittesynapasestorage.dfs.core.windows.net/parquet-countries\"\r\n",
        "\r\n",
        "# write the DF into blob storage with partition by Country, this will create many folders\r\n",
        "# as per country code, place the content in respective country\r\n",
        "ecommerceDF.write.partitionBy(\"Country\").mode(\"overwrite\").parquet(output_path)\r\n"
      ],
      "outputs": [
        {
          "output_type": "display_data",
          "data": {
            "application/vnd.livy.statement-meta+json": {
              "spark_pool": "SparkPool",
              "session_id": 1,
              "statement_id": 11,
              "state": "finished",
              "livy_statement_state": "available",
              "queued_time": "2021-05-27T11:30:56.6278474Z",
              "execution_start_time": "2021-05-27T11:30:56.7397825Z",
              "execution_finish_time": "2021-05-27T11:31:07.1579301Z"
            },
            "text/plain": "StatementMeta(SparkPool, 1, 11, Finished, Available)"
          },
          "metadata": {}
        },
        {
          "output_type": "stream",
          "name": "stdout",
          "text": [
            "+--------------------+\n",
            "|             Country|\n",
            "+--------------------+\n",
            "|              Sweden|\n",
            "|           Singapore|\n",
            "|             Germany|\n",
            "|                 RSA|\n",
            "|              France|\n",
            "|              Greece|\n",
            "|  European Community|\n",
            "|             Belgium|\n",
            "|             Finland|\n",
            "|               Malta|\n",
            "|         Unspecified|\n",
            "|               Italy|\n",
            "|                EIRE|\n",
            "|           Lithuania|\n",
            "|              Norway|\n",
            "|               Spain|\n",
            "|             Denmark|\n",
            "|           Hong Kong|\n",
            "|             Iceland|\n",
            "|              Israel|\n",
            "|     Channel Islands|\n",
            "|                 USA|\n",
            "|              Cyprus|\n",
            "|        Saudi Arabia|\n",
            "|         Switzerland|\n",
            "|United Arab Emirates|\n",
            "|              Canada|\n",
            "|      Czech Republic|\n",
            "|              Brazil|\n",
            "|             Lebanon|\n",
            "|               Japan|\n",
            "|              Poland|\n",
            "|            Portugal|\n",
            "|           Australia|\n",
            "|             Austria|\n",
            "|             Bahrain|\n",
            "|      United Kingdom|\n",
            "|         Netherlands|\n",
            "+--------------------+"
          ]
        }
      ],
      "execution_count": 11,
      "metadata": {
        "collapsed": true,
        "jupyter": {
          "source_hidden": false,
          "outputs_hidden": false
        },
        "nteract": {
          "transient": {
            "deleting": false
          }
        }
      }
    },
    {
      "cell_type": "code",
      "source": [
        "# ecommerceDF.select(\"InvoiceDate\").distinct().show(100)\r\n",
        "\r\n",
        "ecommerceWithDatesDF = ecommerceDF\\\r\n",
        "                       .withColumn(\"Year\", F.year(\"InvoiceDate\"))\\\r\n",
        "                       .withColumn(\"Month\", F.month(\"InvoiceDate\"))\\\r\n",
        "                       .withColumn(\"Day\", F.dayofmonth(\"InvoiceDate\"))\r\n",
        "\r\n",
        " \r\n",
        "ecommerceWithDatesDF.printSchema()\r\n",
        "\r\n",
        "output_path =  \"abfss://ecommerce@deloittesynapasestorage.dfs.core.windows.net/parquet-dates\"\r\n",
        "\r\n",
        "\r\n",
        "# write the DF into blob storage with partition by \"Year\", \"Month\", \"Day\", this will create many folders\r\n",
        "# as per country code, place the content in respective \"Year\", \"Month\", \"Day\"\r\n",
        "ecommerceWithDatesDF.coalesce(1).write.partitionBy(\"Year\", \"Month\", \"Day\").mode(\"overwrite\").parquet(output_path)\r\n",
        "\r\n",
        "\r\n",
        "output_path =  \"abfss://ecommerce@deloittesynapasestorage.dfs.core.windows.net/parquet-country-dates\"\r\n",
        "\r\n",
        "\r\n",
        "# write the DF into blob storage with partition by Country,, \"Year\", \"Month\", \"Day\"\r\n",
        "# as per country code, place the content in respective country, \"Year\", \"Month\", \"Day\"\r\n",
        "ecommerceWithDatesDF.coalesce(1).write.partitionBy(\"Country\", \"Year\", \"Month\", \"Day\").mode(\"overwrite\").parquet(output_path)\r\n"
      ],
      "outputs": [
        {
          "output_type": "display_data",
          "data": {
            "application/vnd.livy.statement-meta+json": {
              "spark_pool": "SparkPool",
              "session_id": 1,
              "statement_id": 17,
              "state": "finished",
              "livy_statement_state": "available",
              "queued_time": "2021-05-27T11:45:37.3782621Z",
              "execution_start_time": "2021-05-27T11:45:37.4981606Z",
              "execution_finish_time": "2021-05-27T11:54:43.3948654Z"
            },
            "text/plain": "StatementMeta(SparkPool, 1, 17, Finished, Available)"
          },
          "metadata": {}
        },
        {
          "output_type": "stream",
          "name": "stdout",
          "text": [
            "root\n",
            " |-- InvoiceNo: string (nullable = true)\n",
            " |-- StockCode: string (nullable = true)\n",
            " |-- Description: string (nullable = true)\n",
            " |-- Quantity: integer (nullable = true)\n",
            " |-- InvoiceDate: date (nullable = true)\n",
            " |-- UnitPrice: double (nullable = true)\n",
            " |-- CustomerID: integer (nullable = true)\n",
            " |-- Country: string (nullable = true)\n",
            " |-- Year: integer (nullable = true)\n",
            " |-- Month: integer (nullable = true)\n",
            " |-- Day: integer (nullable = true)"
          ]
        }
      ],
      "execution_count": 17,
      "metadata": {
        "collapsed": true,
        "jupyter": {
          "source_hidden": false,
          "outputs_hidden": false
        },
        "nteract": {
          "transient": {
            "deleting": false
          }
        }
      }
    },
    {
      "cell_type": "code",
      "source": [],
      "outputs": [],
      "execution_count": null,
      "metadata": {
        "collapsed": true,
        "jupyter": {
          "source_hidden": false,
          "outputs_hidden": false
        },
        "nteract": {
          "transient": {
            "deleting": false
          }
        }
      }
    }
  ],
  "metadata": {
    "kernelspec": {
      "name": "synapse_pyspark",
      "language": "Python",
      "display_name": "Synapse PySpark"
    },
    "language_info": {
      "name": "python"
    },
    "kernel_info": {
      "name": "synapse_pyspark"
    },
    "save_output": true,
    "synapse_widget": {
      "version": "0.1",
      "state": {}
    }
  },
  "nbformat": 4,
  "nbformat_minor": 2
}